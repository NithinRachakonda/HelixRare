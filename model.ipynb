{
 "cells": [
  {
   "cell_type": "markdown",
   "metadata": {},
   "source": [
    "## Importing Genomic database"
   ]
  },
  {
   "cell_type": "code",
   "execution_count": 369,
   "metadata": {},
   "outputs": [],
   "source": [
    "import pandas as pd\n",
    "\n",
    "df1 = pd.read_csv('C:/Users/Owner/Desktop/Hackathon/clinvar_result.csv')\n",
    "df2 = pd.read_csv('C:/Users/Owner/Desktop/Hackathon/htt.csv')\n",
    "clinvar = df1.loc[:, ~df1.columns.str.startswith('Unnamed')]\n",
    "genomad = df2.loc[:, ~df2.columns.str.startswith('Unnamed')]\n"
   ]
  },
  {
   "cell_type": "code",
   "execution_count": 370,
   "metadata": {},
   "outputs": [
    {
     "data": {
      "text/html": [
       "<div>\n",
       "<style scoped>\n",
       "    .dataframe tbody tr th:only-of-type {\n",
       "        vertical-align: middle;\n",
       "    }\n",
       "\n",
       "    .dataframe tbody tr th {\n",
       "        vertical-align: top;\n",
       "    }\n",
       "\n",
       "    .dataframe thead th {\n",
       "        text-align: right;\n",
       "    }\n",
       "</style>\n",
       "<table border=\"1\" class=\"dataframe\">\n",
       "  <thead>\n",
       "    <tr style=\"text-align: right;\">\n",
       "      <th></th>\n",
       "      <th>VariationID</th>\n",
       "      <th>AlleleID(s)</th>\n",
       "      <th>Germline classification</th>\n",
       "      <th>Chromosome</th>\n",
       "      <th>Position</th>\n",
       "      <th>Reference</th>\n",
       "      <th>Alternate</th>\n",
       "      <th>Allele Frequency</th>\n",
       "    </tr>\n",
       "  </thead>\n",
       "  <tbody>\n",
       "    <tr>\n",
       "      <th>0</th>\n",
       "      <td>2654593</td>\n",
       "      <td>2822358</td>\n",
       "      <td>Likely benign</td>\n",
       "      <td>4</td>\n",
       "      <td>3074876</td>\n",
       "      <td>C</td>\n",
       "      <td>CCAGCAGCAGCAGCAGCAGCAGCAGCAGCAG</td>\n",
       "      <td>0.001744</td>\n",
       "    </tr>\n",
       "    <tr>\n",
       "      <th>1</th>\n",
       "      <td>1690808</td>\n",
       "      <td>1683216</td>\n",
       "      <td>Benign</td>\n",
       "      <td>4</td>\n",
       "      <td>3074876</td>\n",
       "      <td>C</td>\n",
       "      <td>CCAGCAGCAGCAG</td>\n",
       "      <td>0.011837</td>\n",
       "    </tr>\n",
       "    <tr>\n",
       "      <th>2</th>\n",
       "      <td>1687507</td>\n",
       "      <td>1679800</td>\n",
       "      <td>Likely pathogenic</td>\n",
       "      <td>4</td>\n",
       "      <td>3074876</td>\n",
       "      <td>C</td>\n",
       "      <td>CCAGCAGCAGCAGCAGCAGCAGCAGCAGCAGCAGCAGCAGCAGCAG...</td>\n",
       "      <td>0.000035</td>\n",
       "    </tr>\n",
       "    <tr>\n",
       "      <th>3</th>\n",
       "      <td>1301634</td>\n",
       "      <td>1291917</td>\n",
       "      <td>Uncertain significance</td>\n",
       "      <td>4</td>\n",
       "      <td>3074876</td>\n",
       "      <td>C</td>\n",
       "      <td>CCAG</td>\n",
       "      <td>0.059586</td>\n",
       "    </tr>\n",
       "    <tr>\n",
       "      <th>4</th>\n",
       "      <td>1174947</td>\n",
       "      <td>1164242</td>\n",
       "      <td>Benign/Likely benign</td>\n",
       "      <td>4</td>\n",
       "      <td>3074876</td>\n",
       "      <td>C</td>\n",
       "      <td>CCAGCAGCAGCAGCAG</td>\n",
       "      <td>0.008950</td>\n",
       "    </tr>\n",
       "  </tbody>\n",
       "</table>\n",
       "</div>"
      ],
      "text/plain": [
       "   VariationID AlleleID(s) Germline classification  Chromosome  Position  \\\n",
       "0      2654593     2822358           Likely benign           4   3074876   \n",
       "1      1690808     1683216                  Benign           4   3074876   \n",
       "2      1687507     1679800       Likely pathogenic           4   3074876   \n",
       "3      1301634     1291917  Uncertain significance           4   3074876   \n",
       "4      1174947     1164242    Benign/Likely benign           4   3074876   \n",
       "\n",
       "  Reference                                          Alternate  \\\n",
       "0         C                    CCAGCAGCAGCAGCAGCAGCAGCAGCAGCAG   \n",
       "1         C                                      CCAGCAGCAGCAG   \n",
       "2         C  CCAGCAGCAGCAGCAGCAGCAGCAGCAGCAGCAGCAGCAGCAGCAG...   \n",
       "3         C                                               CCAG   \n",
       "4         C                                   CCAGCAGCAGCAGCAG   \n",
       "\n",
       "   Allele Frequency  \n",
       "0          0.001744  \n",
       "1          0.011837  \n",
       "2          0.000035  \n",
       "3          0.059586  \n",
       "4          0.008950  "
      ]
     },
     "execution_count": 370,
     "metadata": {},
     "output_type": "execute_result"
    }
   ],
   "source": [
    "variant_db = pd.merge(clinvar, genomad, on='VariationID', how='inner')\n",
    "variant_db.head()"
   ]
  },
  {
   "cell_type": "markdown",
   "metadata": {},
   "source": [
    "## Simulating patient Gene data"
   ]
  },
  {
   "cell_type": "code",
   "execution_count": 371,
   "metadata": {},
   "outputs": [],
   "source": [
    "import random\n",
    "\n",
    "def simulate_htt_variants(num_variants=random.randint(1, 3)):\n",
    "    \"\"\"Simulates variants within the HTT gene region.\"\"\"\n",
    "\n",
    "    htt_gene_start = 3042167 # range of positions found in variants on gnomAD\n",
    "    htt_gene_end = 3240131\n",
    "\n",
    "    variants = []\n",
    "    for _ in range(num_variants):\n",
    "        position = random.randint(htt_gene_start, htt_gene_end)\n",
    "        reference = random.choice([\"A\", \"C\", \"G\", \"T\"])\n",
    "        alternate = random.choice([\"A\", \"C\", \"G\", \"T\"])\n",
    "        while alternate == reference: #make sure that alternate is different from reference.\n",
    "            alternate = random.choice([\"A\", \"C\", \"G\", \"T\"])\n",
    "        variants.append({\n",
    "            \"Chromosome\": \"4\",\n",
    "            \"Position\": position,\n",
    "            \"Reference\": reference,\n",
    "            \"Alternate\": alternate,\n",
    "        })\n",
    "    return variants"
   ]
  },
  {
   "cell_type": "markdown",
   "metadata": {},
   "source": [
    "## Simulating general patient data"
   ]
  },
  {
   "cell_type": "code",
   "execution_count": 372,
   "metadata": {},
   "outputs": [
    {
     "name": "stdout",
     "output_type": "stream",
     "text": [
      "  patientID  CAG_Repeats    Chorea Cognitive_Decline Psychiatric_Symptoms  Family_history  Age Sex Travel_Preference  PatientCity                                                                                                                                                      Variants\n",
      "0   HD-P001           31      Mild              Mild             Moderate               1   48   M                No      Florida  [{'Chromosome': '4', 'Position': 3180968, 'Reference': 'C', 'Alternate': 'G'}, {'Chromosome': '4', 'Position': 3110845, 'Reference': 'T', 'Alternate': 'A'}]\n",
      "1   HD-P002           33    Severe              Mild             Moderate               1   30   F               Yes  Los Angeles  [{'Chromosome': '4', 'Position': 3085746, 'Reference': 'A', 'Alternate': 'G'}, {'Chromosome': '4', 'Position': 3113915, 'Reference': 'G', 'Alternate': 'T'}]\n",
      "2   HD-P003           49      Mild            Severe                 Mild               1   35   M               Yes     San Jose  [{'Chromosome': '4', 'Position': 3192365, 'Reference': 'G', 'Alternate': 'C'}, {'Chromosome': '4', 'Position': 3087243, 'Reference': 'A', 'Alternate': 'G'}]\n",
      "3   HD-P004           20  Moderate          Moderate               Severe               0   67   F               Yes     San Jose  [{'Chromosome': '4', 'Position': 3169752, 'Reference': 'G', 'Alternate': 'C'}, {'Chromosome': '4', 'Position': 3235269, 'Reference': 'T', 'Alternate': 'A'}]\n",
      "4   HD-P005           20  Moderate              Mild                 Mild               1   64   M               Yes     New York  [{'Chromosome': '4', 'Position': 3147023, 'Reference': 'C', 'Alternate': 'G'}, {'Chromosome': '4', 'Position': 3186083, 'Reference': 'T', 'Alternate': 'G'}]\n"
     ]
    }
   ],
   "source": [
    "import pandas as pd\n",
    "import random\n",
    "import numpy as np\n",
    "\n",
    "def simulate_hd_patients(num_patients=10):\n",
    "    \"\"\"Simulates patient data for Huntington's Disease.\"\"\"\n",
    "\n",
    "    patient_ids = [f\"HD-P{i:03d}\" for i in range(1, num_patients + 1)]\n",
    "    cag_repeats = [int(max(random.gauss(40, 10), 20)) for _ in range(num_patients)] #Gaussian distribution, with a min of 20.\n",
    "    symptom_levels = [\"Mild\", \"Moderate\", \"Severe\"]\n",
    "    chorea = [random.choice(symptom_levels) for _ in range(num_patients)]\n",
    "    cognitive_decline = [random.choice(symptom_levels) for _ in range(num_patients)]\n",
    "    psychiatric_symptoms = [random.choice(symptom_levels) for _ in range(num_patients)]\n",
    "    family_history = [np.random.choice([0, 1], p=[0.3, 0.7]) for _ in range(num_patients)]\n",
    "    age = [int(max(random.gauss(50, 15), 15)) for _ in range(num_patients)]\n",
    "    sex = [random.choice([\"M\", \"F\"]) for _ in range(num_patients)]\n",
    "    travel_preference = [random.choice([\"Yes\", \"No\"]) for _ in range(num_patients)]\n",
    "    cities = [\"New York\", \"Los Angeles\", \"Chicago\", \"Florida\", \"San Jose\"]\n",
    "    patient_cities = [random.choice(cities) for _ in range(num_patients)]\n",
    "    variants = [simulate_htt_variants() for _ in range(num_patients)]\n",
    "\n",
    "    data = {\n",
    "        \"patientID\": patient_ids,\n",
    "        \"CAG_Repeats\": cag_repeats,\n",
    "        \"Chorea\": chorea,\n",
    "        \"Cognitive_Decline\": cognitive_decline,\n",
    "        \"Psychiatric_Symptoms\": psychiatric_symptoms,\n",
    "        \"Family_history\": family_history,\n",
    "        \"Age\": age,\n",
    "        \"Sex\": sex,\n",
    "        \"Travel_Preference\": travel_preference,\n",
    "        \"PatientCity\": patient_cities,\n",
    "        \"Variants\": variants,\n",
    "    }\n",
    "\n",
    "    return pd.DataFrame(data)\n",
    "\n",
    "# Example usage\n",
    "patients_df = simulate_hd_patients(10)\n",
    "print(patients_df.head().to_string(max_colwidth=None))"
   ]
  },
  {
   "cell_type": "markdown",
   "metadata": {},
   "source": [
    "## Example trial"
   ]
  },
  {
   "cell_type": "code",
   "execution_count": null,
   "metadata": {},
   "outputs": [],
   "source": [
    "trials = [\n",
    "    {\n",
    "        \"NCTId\": \"NCT01234567\",\n",
    "        \"BriefTitle\": \"Huntington's Disease Trial 1\",\n",
    "        \"EligibilityCriteria\": \"Inclusion Criteria: Confirmed diagnosis of Huntington's disease via CAG-repeat length analysis,\"\n",
    "                               \"Higher CAG_repeats will lead to higher probability of having the disease.\"\n",
    "                               \"Patient must be between 18 and 74 years of age. Mild to moderate chorea,\"\n",
    "                               \"exclusion criteria: No severe psychiatric disorders. No depression.\",\n",
    "        \"StudyStatus\": \"Recruiting\",\n",
    "        \"TrialCity\": \"New York\",\n",
    "        \"Travel_Required\": \"Yes\" #Trial travel requirement.\n",
    "    }\n",
    "]"
   ]
  },
  {
   "cell_type": "markdown",
   "metadata": {},
   "source": [
    "## Defining the eligibility score"
   ]
  },
  {
   "cell_type": "code",
   "execution_count": 374,
   "metadata": {},
   "outputs": [],
   "source": [
    "import pandas as pd\n",
    "from transformers import pipeline\n",
    "import os\n",
    "\n",
    "def calculate_hd_clinical_match(patient):\n",
    "    clinical_match = 1.0\n",
    "    if patient[\"CAG_Repeats\"] < 36:\n",
    "        clinical_match -= 0.4\n",
    "    if patient[\"Age\"] < 18 or patient[\"Age\"] > 74:\n",
    "        clinical_match -= 0.6\n",
    "    return clinical_match\n",
    "\n",
    "def calculate_variant_novelty(variant, variant_db):\n",
    "    novelty_score = 0.0\n",
    "    clinvar_classification = \"Not Found\"\n",
    "    gnomad_frequency = None\n",
    "\n",
    "    matching_variants = variant_db[\n",
    "        (variant_db[\"Chromosome\"] == variant[\"Chromosome\"]) &\n",
    "        (variant_db[\"Position\"] == variant[\"Position\"]) &\n",
    "        (variant_db[\"Reference\"] == variant[\"Reference\"]) &\n",
    "        (variant_db[\"Alternate\"] == variant[\"Alternate\"])\n",
    "    ]\n",
    "\n",
    "    if not matching_variants.empty:\n",
    "        clinvar_classification = matching_variants[\"Germline classification\"].iloc[0]\n",
    "        gnomad_frequency = matching_variants[\"Allele Frequency\"].iloc[0]\n",
    "\n",
    "        if clinvar_classification == \"Uncertain significance\":\n",
    "            novelty_score += 0.5 #increase to 0.5\n",
    "        if gnomad_frequency is not None and gnomad_frequency < 0.0001:\n",
    "            novelty_score += 0.5 #increase to 0.5\n",
    "    else:\n",
    "        novelty_score = 1 #Variant not found is now a score of 1.0.\n",
    "\n",
    "    return min(novelty_score, 1.0), clinvar_classification\n",
    "\n",
    "def match_patients_to_trials(patients_df, trials, variant_db):\n",
    "    ranker = pipeline(\"zero-shot-classification\", model=\"facebook/bart-large-mnli\", device='cpu') #or use another model.\n",
    "    results = {}\n",
    "\n",
    "    # Calculate variant novelty scores\n",
    "    for index, patient in patients_df.iterrows():\n",
    "        patient_variants = patient[\"Variants\"]\n",
    "        total_novelty_score = 0.0\n",
    "        clinvar_classifications = []\n",
    "        for variant in patient_variants:\n",
    "            novelty_score, clinvar_classification = calculate_variant_novelty(variant, variant_db)\n",
    "            total_novelty_score += novelty_score\n",
    "            clinvar_classifications.append(clinvar_classification)\n",
    "        patients_df.loc[index, \"variant_novelty_score\"] = total_novelty_score/ len(patient_variants)\n",
    "        patients_df.loc[index, \"clinvar_classification\"] = \", \".join(clinvar_classifications)\n",
    "\n",
    "    for trial in trials:\n",
    "        trial_id = trial[\"NCTId\"]\n",
    "        criteria = trial[\"EligibilityCriteria\"]\n",
    "        trial_city = trial[\"TrialCity\"]\n",
    "        trial_travel = trial[\"Travel_Required\"]\n",
    "        results[trial_id] = []\n",
    "\n",
    "        for _, patient in patients_df.iterrows():\n",
    "            patient_data = patient.to_dict()\n",
    "            clinical_match = calculate_hd_clinical_match(patient_data)\n",
    "            patient_city = patient_data.get(\"PatientCity\", \"Unknown\")\n",
    "            patient_travel = patient_data.get(\"Travel_Preference\", \"Unknown\")\n",
    "            variant_novelty_score = patient[\"variant_novelty_score\"]\n",
    "            clinvar_classification = patient[\"clinvar_classification\"]\n",
    "\n",
    "            prompt = f\"\"\"\n",
    "            Patient Data: {patient_data}.\n",
    "            Variant Novelty Score: {variant_novelty_score}.\n",
    "            ClinVar Classification: {clinvar_classification}.\n",
    "            Trial Eligibility Criteria: {criteria}.\n",
    "            Trial Location: {trial_city}.\n",
    "            Travel Required: {trial_travel}.\n",
    "\n",
    "            Instructions:\n",
    "            1. Analyze the patient data against each eligibility criterion.\n",
    "            2. Consider the patient's variant novelty and ClinVar classification.\n",
    "            3. Consider the patient's location and travel preference.\n",
    "            4. Determine if the patient is a suitable candidate for the trial.\n",
    "            \"\"\"\n",
    "            llama_result = ranker(prompt, candidate_labels=[\"Yes\", \"No\"])\n",
    "            yes_score = llama_result[\"scores\"][llama_result[\"labels\"].index(\"Yes\")]\n",
    "            llama_rank = yes_score\n",
    "\n",
    "            final_score = (0.4 * clinical_match) + (0.3 * llama_rank) + (0.3 * variant_novelty_score)\n",
    "\n",
    "            if patient_city != trial_city and trial_travel == \"Yes\" and patient_travel == \"No\":\n",
    "                final_score *= 0.2\n",
    "\n",
    "            results[trial_id].append({\n",
    "                \"patientID\": patient[\"patientID\"],\n",
    "                \"score\": final_score,\n",
    "                \"clinical\": clinical_match,\n",
    "                \"novelty\": variant_novelty_score,\n",
    "                \"clinvar\": clinvar_classification,\n",
    "                \"reasoning\": llama_result\n",
    "            })\n",
    "\n",
    "    return results"
   ]
  },
  {
   "cell_type": "code",
   "execution_count": 375,
   "metadata": {},
   "outputs": [
    {
     "name": "stderr",
     "output_type": "stream",
     "text": [
      "Device set to use cpu\n"
     ]
    }
   ],
   "source": [
    "matching_results = match_patients_to_trials(patients_df, trials, variant_db)"
   ]
  },
  {
   "cell_type": "markdown",
   "metadata": {},
   "source": [
    "## Calculating the eligibility sscore"
   ]
  },
  {
   "cell_type": "code",
   "execution_count": 376,
   "metadata": {},
   "outputs": [
    {
     "name": "stdout",
     "output_type": "stream",
     "text": [
      "\n",
      "Trial: NCT01234567\n",
      "  Patient: HD-P008, Score: 0.82\n",
      "  Patient: HD-P009, Score: 0.82\n",
      "  Patient: HD-P003, Score: 0.82\n",
      "  Patient: HD-P005, Score: 0.67\n",
      "  Patient: HD-P002, Score: 0.66\n",
      "  Patient: HD-P004, Score: 0.66\n",
      "  Patient: HD-P010, Score: 0.66\n",
      "  Patient: HD-P006, Score: 0.15\n",
      "  Patient: HD-P007, Score: 0.15\n",
      "  Patient: HD-P001, Score: 0.12\n"
     ]
    }
   ],
   "source": [
    "# 5. Display Results (Simplified)\n",
    "for trial_id, patient_scores in matching_results.items():\n",
    "    print(f\"\\nTrial: {trial_id}\")\n",
    "    patient_scores.sort(key=lambda x: x[\"score\"], reverse=True)\n",
    "    for patient in patient_scores:\n",
    "        print(f\"  Patient: {patient['patientID']}, Score: {patient['score']:.2f}\")\n",
    "        #print(f\"  Patient: {patient['patientID']}, clinical Score: {patient['novelty']:.2f}\")\n",
    "        #print(f\"  Reasoning: {patient['reasoning']}\") #print the reasoning."
   ]
  }
 ],
 "metadata": {
  "kernelspec": {
   "display_name": "base",
   "language": "python",
   "name": "python3"
  },
  "language_info": {
   "codemirror_mode": {
    "name": "ipython",
    "version": 3
   },
   "file_extension": ".py",
   "mimetype": "text/x-python",
   "name": "python",
   "nbconvert_exporter": "python",
   "pygments_lexer": "ipython3",
   "version": "3.12.4"
  }
 },
 "nbformat": 4,
 "nbformat_minor": 2
}
